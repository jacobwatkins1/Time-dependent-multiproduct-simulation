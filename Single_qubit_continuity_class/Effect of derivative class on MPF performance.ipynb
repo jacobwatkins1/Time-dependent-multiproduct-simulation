{
 "cells": [
  {
   "cell_type": "code",
   "execution_count": 101,
   "id": "192ed065",
   "metadata": {},
   "outputs": [],
   "source": [
    "import numpy as np\n",
    "import scipy as sp\n",
    "import scipy.linalg as la\n",
    "import matplotlib.pyplot as plt\n",
    "from qiskit import QuantumCircuit, QuantumRegister, ClassicalRegister\n",
    "from scipy.special import lambertw\n",
    "import qutip as qt"
   ]
  },
  {
   "cell_type": "code",
   "execution_count": 102,
   "id": "8b0b9c56",
   "metadata": {},
   "outputs": [],
   "source": [
    "# Set K_scale to 1 to ensure proper rounding\n",
    "def k(m, K_scale=1):\n",
    "    j = np.arange(1, m+1)\n",
    "    x = np.sin(np.pi*(2*j-1)/(8*m))**2\n",
    "    #x = np.cos(np.pi*(2*j-1)/(8*m))**2\n",
    "    return np.ceil((K_scale*np.sqrt(8) * m) /(np.pi*np.sqrt(x))).astype(int)\n",
    "\n",
    "def a(k):\n",
    "    m = len(k)\n",
    "    result = np.ones(m, dtype = 'float')\n",
    "    for n in range(m):\n",
    "        for q in range(m):\n",
    "            if q != n:\n",
    "                result[n] *= k[n]**2/(k[n]**2-k[q]**2)\n",
    "    return result\n",
    "        \n",
    "def one_norm(vector):\n",
    "    return np.sum(np.abs(vector))"
   ]
  },
  {
   "cell_type": "markdown",
   "id": "daaa6640",
   "metadata": {},
   "source": [
    "# Effect of continuity class on MPF formula\n",
    "\n",
    "Here we're going to see how the effects of continuity class affect the application of the multiproduct formula. As a minimal example, let's consider a Hamiltonian of the form\n",
    "$$H (t) = \\omega(t) Z$$\n",
    "\n",
    "where $Z$ is the pauli operator. From this, we get a time evolution operator of the form\n",
    "\n",
    "$$ U(t) = \\exp\\left\\{-iZ \\phi(t)\\right\\} = R_z(2 \\phi(t))$$\n",
    "where \n",
    "$$\\phi(t) = \\int_{t_0}^{t} \\omega(\\tau) d\\tau$$\n",
    "\n",
    "let's consider a family of such Hamiltonians, each belonging to a different continuity class. This suggests a family $\\{\\omega_k\\}$ of such functions, and a suitable choice could be\n",
    "\n",
    "$$\\omega_k(t) = \\omega_0  \\text{sgn}(t) (\\frac{2t}{T})^k, \\quad t \\in [-T/2,T/2]$$\n",
    "\n",
    "where $T$ is the desired evolution time, and $\\omega_0$ is a constant that determines the magnitude.\n"
   ]
  },
  {
   "cell_type": "code",
   "execution_count": 228,
   "id": "f377e5d5",
   "metadata": {},
   "outputs": [],
   "source": [
    "T = 1 # Total evolution time (note t is from -T/2 to T/2)\n",
    "omega0 = 1\n",
    "cont_class = 2\n",
    "\n",
    "## Function that is in the cont_class continuity class, with k+1-discontinuity at t=0\n",
    "def omega(t, cont_class):\n",
    "    func1 = lambda x: omega0 * np.sign(x)\n",
    "    for n in range(0, cont_class):\n",
    "        func2 = func1\n",
    "        func1 = lambda x: sp.integrate.quad(func2, -T/2, x)/T\n",
    "    return func1(t)\n",
    "#    if cont_class ==0:\n",
    "#        return omega0  * np.sign(t)\n",
    "#    else:\n",
    "#        return sp.integrate.quad(omega, -T/2, t, args=(cont_class-1))[0]/T\n",
    "#    return omega0 * np.sign\n",
    "\n",
    "# The phase of the time evolution operator, integrating omega using scipy quad.\n",
    "# Note that phi will be k+1-continuous\n",
    "def phi(delta_t,t_init, cont_class):\n",
    "    return sp.integrate.quad(omega, t_init, delta_t + t_init, args=(cont_class))[0]\n",
    "\n",
    "Z = np.array([[1,0],[0,-1]],dtype='complex') # Pauli Z operator\n",
    "\n",
    "Rz = lambda theta: la.expm(-1j*theta*Z/2)  #Pauli Z rotation"
   ]
  },
  {
   "cell_type": "code",
   "execution_count": 112,
   "id": "c4e1b159",
   "metadata": {},
   "outputs": [],
   "source": [
    "def H(t, cont_class):\n",
    "    return omega(t, cont_class)*Z\n",
    "\n",
    "#Exact time evolution operator\n",
    "def U(delta_t,t_init,cont_class):\n",
    "    return la.expm(-1j * Z * phi(delta_t, t_init, cont_class))\n",
    "\n",
    "#Midpoint approximant to evolution operator.\n",
    "def U2(delta_t, t_init,cont_class):\n",
    "    return la.expm(-1j * H(t_init + delta_t/2, cont_class)*delta_t)\n",
    "\n",
    "#Construct sequence of midpoint formulas used in MPF \n",
    "def U_seq(delta_t, t_init, steps, cont_class):\n",
    "    timestep = delta_t/steps\n",
    "    result = U2(timestep,t_init, cont_class)\n",
    "    for q in range(1, steps):\n",
    "        result = U2(timestep, t_init + q*timestep, cont_class) @ result\n",
    "        \n",
    "    return result\n",
    "\n",
    "#Construct MPF for the continuity class Hamiltonian\n",
    "def U_k(delta_t, t_init, order, cont_class):\n",
    "    k_vec = k(order, 1)\n",
    "    a_vec = a(k_vec)\n",
    "    \n",
    "    result = a_vec[0]*U_seq(delta_t, t_init, k_vec[0], cont_class)\n",
    "    for j in range(1,order):\n",
    "        result += a_vec[j]*U_seq(delta_t, t_init, k_vec[j],cont_class)  \n",
    "        \n",
    "    return result\n",
    "\n",
    "#Full multiproduct formula, with usual delta_t and t_init as well as the number of mesh points nsteps, and MPF order\n",
    "def U_MP(delta_t, t_init, nsteps, order, cont_class):\n",
    "    timestep = delta_t/steps\n",
    "    result = U_k(timestep, t_init, order, cont_class)\n",
    "    for step_number in range(1,nsteps):\n",
    "        result = U_k(timestep, t_init+timestep*step_number,order, cont_class) @ result\n",
    "    return result\n",
    "\n",
    "def power_law_scaling(U_exact, U_approx, t_init, min_sim_time, max_sim_time, tsteps, cont_class):\n",
    "    sim_times = np.linspace(min_sim_time, max_sim_time, tsteps)\n",
    "    logt = np.log10(sim_times)\n",
    "    power = np.zeros(tsteps)"
   ]
  },
  {
   "cell_type": "markdown",
   "id": "cf5e1453",
   "metadata": {},
   "source": [
    "## Finding power scaling!\n",
    "\n",
    "Consider the numerical error $\\epsilon(\\Delta t)$ between the exact propagator $U$ and the approximant $\\tilde{U}$ as a function of the simulation time $\\Delta t$. This error should approach zero as $\\Delta t \\rightarrow 0$ (if the approximant is worth its salt). In particular, if the approximant is a (multi)product formula, it should scale with some integer power, which characterizes the order. Hence, for sufficiently small $\\Delta t$,\n",
    "\n",
    "$$\\epsilon(\\Delta t) \\approx \\alpha \\Delta t^p$$\n",
    "\n",
    "for some constant $\\alpha$. Our goal is to find $p$ to characterize the order. To do so, we choose two simulation times $\\Delta t_1, \\Delta t_2$ where the above approximation is valid. By taking the combination\n",
    "\n",
    "$$ p \\approx \\frac{\\log\\left(\\epsilon(\\Delta t_1)/\\epsilon(\\Delta t_2)\\right)}{\\log\\left(\\Delta t_1/\\Delta t_2\\right)}$$\n",
    "\n",
    "we get a good approximation"
   ]
  },
  {
   "cell_type": "code",
   "execution_count": 199,
   "id": "a3bdb40f",
   "metadata": {},
   "outputs": [
    {
     "name": "stderr",
     "output_type": "stream",
     "text": [
      "/var/folders/3l/pxpt0wt16dg1x_r0_s6zy09r0000gn/T/ipykernel_96022/3752941119.py:23: RuntimeWarning: divide by zero encountered in log10\n",
      "  powers = np.log10(U_k_error/U_k_ref_error)/np.log10(sim_times/tref)\n"
     ]
    },
    {
     "data": {
      "image/png": "[encoded data removed]",
      "text/plain": [
       "<Figure size 432x288 with 1 Axes>"
      ]
     },
     "metadata": {
      "needs_background": "light"
     },
     "output_type": "display_data"
    }
   ],
   "source": [
    "#Check error scaling of U_k\n",
    "order = 2\n",
    "max_sim_time = .9\n",
    "min_sim_time = .3\n",
    "tref = .1\n",
    "tsteps = 50\n",
    "cont_class = 1\n",
    "sim_times = np.linspace(min_sim_time, max_sim_time, tsteps)\n",
    "\n",
    "log_sim_times = np.log10(sim_times)\n",
    "powers = np.zeros(tsteps)\n",
    "\n",
    "\n",
    "#for index, order in enumerate(orders):\n",
    "U_k_error = np.zeros(tsteps)\n",
    "for step, time in enumerate(sim_times):\n",
    "    U_k_error[step] = la.norm(U(time,-time/2, cont_class)-U_k(time,-time/2,order,cont_class))\n",
    "\n",
    "    U_k_ref_error = la.norm(U(tref,-tref/2, cont_class) - U_k(tref,-tref/2,order, cont_class))\n",
    "#U_k_ref = 1\n",
    "\n",
    "\n",
    "powers = np.log10(U_k_error/U_k_ref_error)/np.log10(sim_times/tref)\n",
    "    \n",
    "#for n in range(orders.size-1,-1,-1):\n",
    "plt.plot(sim_times, powers)\n",
    "plt.title(\"Power scaling for different MP orders\")\n",
    "plt.xlabel(\"Log simulation time (base 10)\")\n",
    "plt.ylabel(r'$\\log(\\epsilon(t)/\\epsilon(1))/\\log(t) $')\n",
    "plt.yticks([1,3,5,7,9,11,13])\n",
    "plt.savefig('PowerScalingSingleQubit.png')"
   ]
  },
  {
   "cell_type": "code",
   "execution_count": 184,
   "id": "40bb3e2b",
   "metadata": {},
   "outputs": [
    {
     "data": {
      "text/plain": [
       "array([1.99999906, 1.99999894, 1.9999988 , 1.99999865, 1.99999848,\n",
       "       1.99999831, 1.99999811, 1.9999979 , 1.99999767, 1.99999743,\n",
       "       1.99999717, 1.99999688, 1.99999658, 1.99999626, 1.99999591,\n",
       "       1.99999554, 1.99999515, 1.99999473, 1.99999429, 1.99999382,\n",
       "       1.99999332, 1.99999279, 1.99999224, 1.99999165, 1.99999103,\n",
       "       1.99999037, 1.99998969, 1.99998896, 1.9999882 , 1.99998741,\n",
       "       1.99998657, 1.99998569, 1.99998477, 1.99998381, 1.99998281,\n",
       "       1.99998176, 1.99998066, 1.99997952, 1.99997833, 1.99997709,\n",
       "       1.99997579, 1.99997445, 1.99997305, 1.99997159, 1.99997008,\n",
       "       1.9999685 , 1.99996687, 1.99996518, 1.99996342, 1.9999616 ])"
      ]
     },
     "execution_count": 184,
     "metadata": {},
     "output_type": "execute_result"
    }
   ],
   "source": [
    "powers"
   ]
  },
  {
   "cell_type": "code",
   "execution_count": 115,
   "id": "78b5069e",
   "metadata": {},
   "outputs": [
    {
     "ename": "TypeError",
     "evalue": "phi() missing 1 required positional argument: 'cont_class'",
     "output_type": "error",
     "traceback": [
      "\u001b[0;31m---------------------------------------------------------------------------\u001b[0m",
      "\u001b[0;31mTypeError\u001b[0m                                 Traceback (most recent call last)",
      "\u001b[0;32m/var/folders/3l/pxpt0wt16dg1x_r0_s6zy09r0000gn/T/ipykernel_96022/1271222965.py\u001b[0m in \u001b[0;36m<module>\u001b[0;34m\u001b[0m\n\u001b[1;32m      2\u001b[0m \u001b[0mphilist\u001b[0m \u001b[0;34m=\u001b[0m \u001b[0mnp\u001b[0m\u001b[0;34m.\u001b[0m\u001b[0mzeros\u001b[0m\u001b[0;34m(\u001b[0m\u001b[0;36m1000\u001b[0m\u001b[0;34m)\u001b[0m\u001b[0;34m\u001b[0m\u001b[0;34m\u001b[0m\u001b[0m\n\u001b[1;32m      3\u001b[0m \u001b[0;32mfor\u001b[0m \u001b[0mindex\u001b[0m\u001b[0;34m,\u001b[0m \u001b[0mtime\u001b[0m \u001b[0;32min\u001b[0m \u001b[0menumerate\u001b[0m\u001b[0;34m(\u001b[0m\u001b[0mt\u001b[0m\u001b[0;34m)\u001b[0m\u001b[0;34m:\u001b[0m\u001b[0;34m\u001b[0m\u001b[0;34m\u001b[0m\u001b[0m\n\u001b[0;32m----> 4\u001b[0;31m     \u001b[0mphilist\u001b[0m\u001b[0;34m[\u001b[0m\u001b[0mindex\u001b[0m\u001b[0;34m]\u001b[0m \u001b[0;34m=\u001b[0m \u001b[0mphi\u001b[0m\u001b[0;34m(\u001b[0m\u001b[0mtime\u001b[0m\u001b[0;34m,\u001b[0m \u001b[0mk\u001b[0m\u001b[0;34m)\u001b[0m\u001b[0;34m[\u001b[0m\u001b[0;36m0\u001b[0m\u001b[0;34m]\u001b[0m\u001b[0;34m\u001b[0m\u001b[0;34m\u001b[0m\u001b[0m\n\u001b[0m\u001b[1;32m      5\u001b[0m \u001b[0mplt\u001b[0m\u001b[0;34m.\u001b[0m\u001b[0mplot\u001b[0m\u001b[0;34m(\u001b[0m\u001b[0mt\u001b[0m\u001b[0;34m,\u001b[0m \u001b[0mphilist\u001b[0m\u001b[0;34m)\u001b[0m\u001b[0;34m\u001b[0m\u001b[0;34m\u001b[0m\u001b[0m\n",
      "\u001b[0;31mTypeError\u001b[0m: phi() missing 1 required positional argument: 'cont_class'"
     ]
    }
   ],
   "source": [
    "t = np.linspace(-T/2,T/2, 1000)\n",
    "philist = np.zeros(1000)\n",
    "for index, time in enumerate(t):\n",
    "    philist[index] = phi(time, k)[0]\n",
    "plt.plot(t, philist)"
   ]
  },
  {
   "cell_type": "code",
   "execution_count": 116,
   "id": "dfbaf66a",
   "metadata": {},
   "outputs": [
    {
     "ename": "TypeError",
     "evalue": "'float' object is not subscriptable",
     "output_type": "error",
     "traceback": [
      "\u001b[0;31m---------------------------------------------------------------------------\u001b[0m",
      "\u001b[0;31mTypeError\u001b[0m                                 Traceback (most recent call last)",
      "\u001b[0;32m/var/folders/3l/pxpt0wt16dg1x_r0_s6zy09r0000gn/T/ipykernel_96022/1599729715.py\u001b[0m in \u001b[0;36m<module>\u001b[0;34m\u001b[0m\n\u001b[0;32m----> 1\u001b[0;31m \u001b[0mphi\u001b[0m\u001b[0;34m(\u001b[0m\u001b[0;34m-\u001b[0m\u001b[0;36m.5\u001b[0m\u001b[0;34m,\u001b[0m\u001b[0;36m3\u001b[0m\u001b[0;34m,\u001b[0m\u001b[0;36m1\u001b[0m\u001b[0;34m)\u001b[0m\u001b[0;34m[\u001b[0m\u001b[0;36m0\u001b[0m\u001b[0;34m]\u001b[0m\u001b[0;34m\u001b[0m\u001b[0;34m\u001b[0m\u001b[0m\n\u001b[0m",
      "\u001b[0;31mTypeError\u001b[0m: 'float' object is not subscriptable"
     ]
    }
   ],
   "source": [
    "phi(-.5,3,1)[0]"
   ]
  },
  {
   "cell_type": "code",
   "execution_count": 117,
   "id": "a649cba9",
   "metadata": {},
   "outputs": [
    {
     "name": "stdout",
     "output_type": "stream",
     "text": [
      "[-0.69897    -0.66900678 -0.64097806 -0.61464912 -0.58982553 -0.56634444\n",
      " -0.54406804 -0.52287875 -0.50267536 -0.4833702  -0.4648868  -0.44715803\n",
      " -0.43012469 -0.41373428 -0.39794001 -0.38270004 -0.36797679 -0.35373635\n",
      " -0.33994806 -0.3265841  -0.31361912 -0.30103    -0.28879554 -0.27689632\n",
      " -0.26531444 -0.25403343 -0.24303805 -0.23231418 -0.22184875 -0.21162958\n",
      " -0.20164536 -0.19188553 -0.18234021 -0.17300018 -0.1638568  -0.15490196\n",
      " -0.14612804 -0.13752786 -0.1290947  -0.12082217 -0.11270428 -0.10473535\n",
      " -0.09691001 -0.08922318 -0.08167005 -0.07424603 -0.06694679 -0.05976821\n",
      " -0.05270635 -0.04575749]\n"
     ]
    }
   ],
   "source": [
    "print(log_sim_times)"
   ]
  },
  {
   "cell_type": "code",
   "execution_count": 138,
   "id": "b20d9fa9",
   "metadata": {},
   "outputs": [
    {
     "data": {
      "text/plain": [
       "0.05892130263603569"
      ]
     },
     "execution_count": 138,
     "metadata": {},
     "output_type": "execute_result"
    }
   ],
   "source": [
    "la.norm(U(1/2,-1/2, cont_class) - U2(1/2,-1/2, cont_class))"
   ]
  },
  {
   "cell_type": "code",
   "execution_count": 142,
   "id": "634ec0a4",
   "metadata": {},
   "outputs": [
    {
     "data": {
      "text/plain": [
       "5.8925565094616394e-05"
      ]
     },
     "execution_count": 142,
     "metadata": {},
     "output_type": "execute_result"
    }
   ],
   "source": [
    "time = .1\n",
    "la.norm(U(time/2,-time/2, cont_class)-U2(time/2,-time/2,cont_class))"
   ]
  },
  {
   "cell_type": "code",
   "execution_count": 210,
   "id": "c30652f0",
   "metadata": {},
   "outputs": [
    {
     "name": "stderr",
     "output_type": "stream",
     "text": [
      "/var/folders/3l/pxpt0wt16dg1x_r0_s6zy09r0000gn/T/ipykernel_96022/1798343183.py:10: IntegrationWarning: The occurrence of roundoff error is detected, which prevents \n",
      "  the requested tolerance from being achieved.  The error may be \n",
      "  underestimated.\n",
      "  return sp.integrate.quad(omega, -T/2, t, args=(cont_class-1))[0]/T\n",
      "/var/folders/3l/pxpt0wt16dg1x_r0_s6zy09r0000gn/T/ipykernel_96022/1798343183.py:10: IntegrationWarning: The maximum number of subdivisions (50) has been achieved.\n",
      "  If increasing the limit yields no improvement it is advised to analyze \n",
      "  the integrand in order to determine the difficulties.  If the position of a \n",
      "  local difficulty can be determined (singularity, discontinuity) one will \n",
      "  probably gain from splitting up the interval and calling the integrator \n",
      "  on the subranges.  Perhaps a special-purpose integrator should be used.\n",
      "  return sp.integrate.quad(omega, -T/2, t, args=(cont_class-1))[0]/T\n"
     ]
    },
    {
     "data": {
      "text/plain": [
       "[<matplotlib.lines.Line2D at 0x7fb653a4b850>]"
      ]
     },
     "execution_count": 210,
     "metadata": {},
     "output_type": "execute_result"
    },
    {
     "data": {
      "image/png": "[encoded data removed]",
      "text/plain": [
       "<Figure size 432x288 with 1 Axes>"
      ]
     },
     "metadata": {
      "needs_background": "light"
     },
     "output_type": "display_data"
    }
   ],
   "source": [
    "tsteps = 100\n",
    "cont_class = 2\n",
    "t = np.linspace(-T,T,tsteps)\n",
    "wlist = np.zeros(tsteps)\n",
    "for tstep, time in enumerate(t):\n",
    "    wlist[tstep] = omega(time, cont_class)\n",
    "    \n",
    "plt.plot(t, wlist)\n",
    "    "
   ]
  },
  {
   "cell_type": "code",
   "execution_count": 229,
   "id": "47c9e112",
   "metadata": {},
   "outputs": [
    {
     "ename": "RecursionError",
     "evalue": "maximum recursion depth exceeded",
     "output_type": "error",
     "traceback": [
      "\u001b[0;31m---------------------------------------------------------------------------\u001b[0m",
      "\u001b[0;31mRecursionError\u001b[0m                            Traceback (most recent call last)",
      "\u001b[0;32m/var/folders/3l/pxpt0wt16dg1x_r0_s6zy09r0000gn/T/ipykernel_96022/3061177945.py\u001b[0m in \u001b[0;36m<module>\u001b[0;34m\u001b[0m\n\u001b[0;32m----> 1\u001b[0;31m \u001b[0momega\u001b[0m\u001b[0;34m(\u001b[0m\u001b[0;36m.4\u001b[0m\u001b[0;34m,\u001b[0m\u001b[0;36m2\u001b[0m\u001b[0;34m)\u001b[0m\u001b[0;34m\u001b[0m\u001b[0;34m\u001b[0m\u001b[0m\n\u001b[0m",
      "\u001b[0;32m/var/folders/3l/pxpt0wt16dg1x_r0_s6zy09r0000gn/T/ipykernel_96022/1500705524.py\u001b[0m in \u001b[0;36momega\u001b[0;34m(t, cont_class)\u001b[0m\n\u001b[1;32m      9\u001b[0m         \u001b[0mfunc2\u001b[0m \u001b[0;34m=\u001b[0m \u001b[0mfunc1\u001b[0m\u001b[0;34m\u001b[0m\u001b[0;34m\u001b[0m\u001b[0m\n\u001b[1;32m     10\u001b[0m         \u001b[0mfunc1\u001b[0m \u001b[0;34m=\u001b[0m \u001b[0;32mlambda\u001b[0m \u001b[0mx\u001b[0m\u001b[0;34m:\u001b[0m \u001b[0msp\u001b[0m\u001b[0;34m.\u001b[0m\u001b[0mintegrate\u001b[0m\u001b[0;34m.\u001b[0m\u001b[0mquad\u001b[0m\u001b[0;34m(\u001b[0m\u001b[0mfunc2\u001b[0m\u001b[0;34m,\u001b[0m \u001b[0;34m-\u001b[0m\u001b[0mT\u001b[0m\u001b[0;34m/\u001b[0m\u001b[0;36m2\u001b[0m\u001b[0;34m,\u001b[0m \u001b[0mx\u001b[0m\u001b[0;34m)\u001b[0m\u001b[0;34m/\u001b[0m\u001b[0mT\u001b[0m\u001b[0;34m\u001b[0m\u001b[0;34m\u001b[0m\u001b[0m\n\u001b[0;32m---> 11\u001b[0;31m     \u001b[0;32mreturn\u001b[0m \u001b[0mfunc1\u001b[0m\u001b[0;34m(\u001b[0m\u001b[0mt\u001b[0m\u001b[0;34m)\u001b[0m\u001b[0;34m\u001b[0m\u001b[0;34m\u001b[0m\u001b[0m\n\u001b[0m\u001b[1;32m     12\u001b[0m \u001b[0;31m#    if cont_class ==0:\u001b[0m\u001b[0;34m\u001b[0m\u001b[0;34m\u001b[0m\u001b[0;34m\u001b[0m\u001b[0m\n\u001b[1;32m     13\u001b[0m \u001b[0;31m#        return omega0  * np.sign(t)\u001b[0m\u001b[0;34m\u001b[0m\u001b[0;34m\u001b[0m\u001b[0;34m\u001b[0m\u001b[0m\n",
      "\u001b[0;32m/var/folders/3l/pxpt0wt16dg1x_r0_s6zy09r0000gn/T/ipykernel_96022/1500705524.py\u001b[0m in \u001b[0;36m<lambda>\u001b[0;34m(x)\u001b[0m\n\u001b[1;32m      8\u001b[0m     \u001b[0;32mfor\u001b[0m \u001b[0mn\u001b[0m \u001b[0;32min\u001b[0m \u001b[0mrange\u001b[0m\u001b[0;34m(\u001b[0m\u001b[0;36m0\u001b[0m\u001b[0;34m,\u001b[0m \u001b[0mcont_class\u001b[0m\u001b[0;34m)\u001b[0m\u001b[0;34m:\u001b[0m\u001b[0;34m\u001b[0m\u001b[0;34m\u001b[0m\u001b[0m\n\u001b[1;32m      9\u001b[0m         \u001b[0mfunc2\u001b[0m \u001b[0;34m=\u001b[0m \u001b[0mfunc1\u001b[0m\u001b[0;34m\u001b[0m\u001b[0;34m\u001b[0m\u001b[0m\n\u001b[0;32m---> 10\u001b[0;31m         \u001b[0mfunc1\u001b[0m \u001b[0;34m=\u001b[0m \u001b[0;32mlambda\u001b[0m \u001b[0mx\u001b[0m\u001b[0;34m:\u001b[0m \u001b[0msp\u001b[0m\u001b[0;34m.\u001b[0m\u001b[0mintegrate\u001b[0m\u001b[0;34m.\u001b[0m\u001b[0mquad\u001b[0m\u001b[0;34m(\u001b[0m\u001b[0mfunc2\u001b[0m\u001b[0;34m,\u001b[0m \u001b[0;34m-\u001b[0m\u001b[0mT\u001b[0m\u001b[0;34m/\u001b[0m\u001b[0;36m2\u001b[0m\u001b[0;34m,\u001b[0m \u001b[0mx\u001b[0m\u001b[0;34m)\u001b[0m\u001b[0;34m/\u001b[0m\u001b[0mT\u001b[0m\u001b[0;34m\u001b[0m\u001b[0;34m\u001b[0m\u001b[0m\n\u001b[0m\u001b[1;32m     11\u001b[0m     \u001b[0;32mreturn\u001b[0m \u001b[0mfunc1\u001b[0m\u001b[0;34m(\u001b[0m\u001b[0mt\u001b[0m\u001b[0;34m)\u001b[0m\u001b[0;34m\u001b[0m\u001b[0;34m\u001b[0m\u001b[0m\n\u001b[1;32m     12\u001b[0m \u001b[0;31m#    if cont_class ==0:\u001b[0m\u001b[0;34m\u001b[0m\u001b[0;34m\u001b[0m\u001b[0;34m\u001b[0m\u001b[0m\n",
      "\u001b[0;32m/Library/Frameworks/Python.framework/Versions/3.9/lib/python3.9/site-packages/scipy/integrate/quadpack.py\u001b[0m in \u001b[0;36mquad\u001b[0;34m(func, a, b, args, full_output, epsabs, epsrel, limit, points, weight, wvar, wopts, maxp1, limlst)\u001b[0m\n\u001b[1;32m    349\u001b[0m \u001b[0;34m\u001b[0m\u001b[0m\n\u001b[1;32m    350\u001b[0m     \u001b[0;32mif\u001b[0m \u001b[0mweight\u001b[0m \u001b[0;32mis\u001b[0m \u001b[0;32mNone\u001b[0m\u001b[0;34m:\u001b[0m\u001b[0;34m\u001b[0m\u001b[0;34m\u001b[0m\u001b[0m\n\u001b[0;32m--> 351\u001b[0;31m         retval = _quad(func, a, b, args, full_output, epsabs, epsrel, limit,\n\u001b[0m\u001b[1;32m    352\u001b[0m                        points)\n\u001b[1;32m    353\u001b[0m     \u001b[0;32melse\u001b[0m\u001b[0;34m:\u001b[0m\u001b[0;34m\u001b[0m\u001b[0;34m\u001b[0m\u001b[0m\n",
      "\u001b[0;32m/Library/Frameworks/Python.framework/Versions/3.9/lib/python3.9/site-packages/scipy/integrate/quadpack.py\u001b[0m in \u001b[0;36m_quad\u001b[0;34m(func, a, b, args, full_output, epsabs, epsrel, limit, points)\u001b[0m\n\u001b[1;32m    461\u001b[0m     \u001b[0;32mif\u001b[0m \u001b[0mpoints\u001b[0m \u001b[0;32mis\u001b[0m \u001b[0;32mNone\u001b[0m\u001b[0;34m:\u001b[0m\u001b[0;34m\u001b[0m\u001b[0;34m\u001b[0m\u001b[0m\n\u001b[1;32m    462\u001b[0m         \u001b[0;32mif\u001b[0m \u001b[0minfbounds\u001b[0m \u001b[0;34m==\u001b[0m \u001b[0;36m0\u001b[0m\u001b[0;34m:\u001b[0m\u001b[0;34m\u001b[0m\u001b[0;34m\u001b[0m\u001b[0m\n\u001b[0;32m--> 463\u001b[0;31m             \u001b[0;32mreturn\u001b[0m \u001b[0m_quadpack\u001b[0m\u001b[0;34m.\u001b[0m\u001b[0m_qagse\u001b[0m\u001b[0;34m(\u001b[0m\u001b[0mfunc\u001b[0m\u001b[0;34m,\u001b[0m\u001b[0ma\u001b[0m\u001b[0;34m,\u001b[0m\u001b[0mb\u001b[0m\u001b[0;34m,\u001b[0m\u001b[0margs\u001b[0m\u001b[0;34m,\u001b[0m\u001b[0mfull_output\u001b[0m\u001b[0;34m,\u001b[0m\u001b[0mepsabs\u001b[0m\u001b[0;34m,\u001b[0m\u001b[0mepsrel\u001b[0m\u001b[0;34m,\u001b[0m\u001b[0mlimit\u001b[0m\u001b[0;34m)\u001b[0m\u001b[0;34m\u001b[0m\u001b[0;34m\u001b[0m\u001b[0m\n\u001b[0m\u001b[1;32m    464\u001b[0m         \u001b[0;32melse\u001b[0m\u001b[0;34m:\u001b[0m\u001b[0;34m\u001b[0m\u001b[0;34m\u001b[0m\u001b[0m\n\u001b[1;32m    465\u001b[0m             \u001b[0;32mreturn\u001b[0m \u001b[0m_quadpack\u001b[0m\u001b[0;34m.\u001b[0m\u001b[0m_qagie\u001b[0m\u001b[0;34m(\u001b[0m\u001b[0mfunc\u001b[0m\u001b[0;34m,\u001b[0m\u001b[0mbound\u001b[0m\u001b[0;34m,\u001b[0m\u001b[0minfbounds\u001b[0m\u001b[0;34m,\u001b[0m\u001b[0margs\u001b[0m\u001b[0;34m,\u001b[0m\u001b[0mfull_output\u001b[0m\u001b[0;34m,\u001b[0m\u001b[0mepsabs\u001b[0m\u001b[0;34m,\u001b[0m\u001b[0mepsrel\u001b[0m\u001b[0;34m,\u001b[0m\u001b[0mlimit\u001b[0m\u001b[0;34m)\u001b[0m\u001b[0;34m\u001b[0m\u001b[0;34m\u001b[0m\u001b[0m\n",
      "... last 3 frames repeated, from the frame below ...\n",
      "\u001b[0;32m/var/folders/3l/pxpt0wt16dg1x_r0_s6zy09r0000gn/T/ipykernel_96022/1500705524.py\u001b[0m in \u001b[0;36m<lambda>\u001b[0;34m(x)\u001b[0m\n\u001b[1;32m      8\u001b[0m     \u001b[0;32mfor\u001b[0m \u001b[0mn\u001b[0m \u001b[0;32min\u001b[0m \u001b[0mrange\u001b[0m\u001b[0;34m(\u001b[0m\u001b[0;36m0\u001b[0m\u001b[0;34m,\u001b[0m \u001b[0mcont_class\u001b[0m\u001b[0;34m)\u001b[0m\u001b[0;34m:\u001b[0m\u001b[0;34m\u001b[0m\u001b[0;34m\u001b[0m\u001b[0m\n\u001b[1;32m      9\u001b[0m         \u001b[0mfunc2\u001b[0m \u001b[0;34m=\u001b[0m \u001b[0mfunc1\u001b[0m\u001b[0;34m\u001b[0m\u001b[0;34m\u001b[0m\u001b[0m\n\u001b[0;32m---> 10\u001b[0;31m         \u001b[0mfunc1\u001b[0m \u001b[0;34m=\u001b[0m \u001b[0;32mlambda\u001b[0m \u001b[0mx\u001b[0m\u001b[0;34m:\u001b[0m \u001b[0msp\u001b[0m\u001b[0;34m.\u001b[0m\u001b[0mintegrate\u001b[0m\u001b[0;34m.\u001b[0m\u001b[0mquad\u001b[0m\u001b[0;34m(\u001b[0m\u001b[0mfunc2\u001b[0m\u001b[0;34m,\u001b[0m \u001b[0;34m-\u001b[0m\u001b[0mT\u001b[0m\u001b[0;34m/\u001b[0m\u001b[0;36m2\u001b[0m\u001b[0;34m,\u001b[0m \u001b[0mx\u001b[0m\u001b[0;34m)\u001b[0m\u001b[0;34m/\u001b[0m\u001b[0mT\u001b[0m\u001b[0;34m\u001b[0m\u001b[0;34m\u001b[0m\u001b[0m\n\u001b[0m\u001b[1;32m     11\u001b[0m     \u001b[0;32mreturn\u001b[0m \u001b[0mfunc1\u001b[0m\u001b[0;34m(\u001b[0m\u001b[0mt\u001b[0m\u001b[0;34m)\u001b[0m\u001b[0;34m\u001b[0m\u001b[0;34m\u001b[0m\u001b[0m\n\u001b[1;32m     12\u001b[0m \u001b[0;31m#    if cont_class ==0:\u001b[0m\u001b[0;34m\u001b[0m\u001b[0;34m\u001b[0m\u001b[0;34m\u001b[0m\u001b[0m\n",
      "\u001b[0;31mRecursionError\u001b[0m: maximum recursion depth exceeded"
     ]
    }
   ],
   "source": [
    "omega(.4,2)"
   ]
  },
  {
   "cell_type": "code",
   "execution_count": null,
   "id": "0eb3158a",
   "metadata": {},
   "outputs": [],
   "source": []
  }
 ],
 "metadata": {
  "kernelspec": {
   "display_name": "Python 3 (ipykernel)",
   "language": "python",
   "name": "python3"
  },
  "language_info": {
   "codemirror_mode": {
    "name": "ipython",
    "version": 3
   },
   "file_extension": ".py",
   "mimetype": "text/x-python",
   "name": "python",
   "nbconvert_exporter": "python",
   "pygments_lexer": "ipython3",
   "version": "3.9.1"
  }
 },
 "nbformat": 4,
 "nbformat_minor": 5
}
