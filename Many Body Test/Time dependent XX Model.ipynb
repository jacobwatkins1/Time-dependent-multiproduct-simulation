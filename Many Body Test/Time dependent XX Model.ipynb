{
 "cells": [
  {
   "cell_type": "markdown",
   "id": "8f7738cf",
   "metadata": {},
   "source": [
    "# Calculating multiproduct formula cost for time dependent spin model\n",
    "\n",
    "The Hamiltonian we'll consider here is a 1D closed chain of $N$ qubits subject to the following Hamiltonian\n",
    "\n",
    "$$H(t) =  J(t) H_0 + B(t) H_{pot} \\\\\n",
    "J(t) = J_0 \\quad B(t) = B \\cos(\\omega t) \\\\\n",
    "H_{int} = \\sum_{i=1}^N X_i X_{i+1} + Y_i Y_{i+1}, \\quad H_{pot} = \\sum_{i=1}^N X_i$$.\n",
    "\n",
    "This Hamiltonian does not, in general, commute with itself at later times, though it is still relatively simple. "
   ]
  },
  {
   "cell_type": "code",
   "execution_count": 1,
   "id": "bb25a892",
   "metadata": {},
   "outputs": [],
   "source": [
    "import numpy as np\n",
    "import scipy.linalg as la\n",
    "import matplotlib.pyplot as plt\n",
    "from qiskit import QuantumCircuit, QuantumRegister, ClassicalRegister\n",
    "from scipy.special import lambertw\n",
    "\n",
    "I = np.array([[1,0],[0,1]],dtype = 'complex')\n",
    "X = np.array([[0,1],[1,0]],dtype='complex')\n",
    "Y = np.array([[0,-1.j],[1.j,0]],dtype='complex')\n",
    "Z = np.array([[1,0],[0,-1]],dtype='complex')\n",
    "\n",
    "# Computes Kronecker (tensor) product of a list of matrices\n",
    "def kron_list(matrix_list):\n",
    "    result = matrix_list[0]\n",
    "    for i in range(1,len(matrix_list)):\n",
    "        result = np.kron(result,matrix_list[i])\n",
    "        \n",
    "    return result\n",
    "\n",
    "# Converts string representation of paulis to list of matrices\n",
    "def paulistring_to_list(paulistring): \n",
    "    matrix_list = list(paulistring)\n",
    "    translate = {'I':I, 'X':X, 'Y':Y, 'Z':Z}\n",
    "    for p in range(len(paulistring)):\n",
    "        matrix_list[p] = translate[matrix_list[p]]\n",
    "    return matrix_list\n",
    "\n",
    "# Computes generalized pauli matrix, given a string in standard form\n",
    "def pauli_matrix(paulistring):\n",
    "    return kron_list(paulistring_to_list(paulistring))\n",
    "\n",
    "# Computes generalized pauli matrix, specified by non-identity pieces. Nonidentities encoded as dictionary\n",
    "def sparse_pauli(nonidentities, nqubits):\n",
    "    #starting string is all identity\n",
    "    paulilist = []\n",
    "    for i in range(0,nqubits):\n",
    "        paulilist.append('I')\n",
    "    \n",
    "    #Change string to paulis specified by dictionary\n",
    "    for key in nonidentities:\n",
    "        paulilist[key] = nonidentities[key]\n",
    "    paulistring = ''.join(paulilist)\n",
    "    \n",
    "    return pauli_matrix(paulistring) \n",
    "\n",
    "def sigma_dot_sigma(i,j,nqubits):\n",
    "    return sparse_pauli({i:'X',j:'X'},nqubits) + sparse_pauli({i:'Y',j:'Y'},nqubits) + sparse_pauli({i:'Z',j:'Z'},nqubits)"
   ]
  },
  {
   "cell_type": "code",
   "execution_count": 7,
   "id": "a16523b8",
   "metadata": {},
   "outputs": [],
   "source": [
    "epsilon = 10**-6\n",
    "T = 10\n",
    "nqubits = 3\n",
    "\n",
    "omega1 = 0\n",
    "\n",
    "omega2 = 1\n",
    "J0 = 1\n",
    "B0 = 1\n",
    "\n",
    "gamma = .5\n",
    "kappa = 8\n",
    "\n",
    "def H_hop(nqubits):\n",
    "    result = sparse_pauli({0:'X',1:'X'},nqubits) + sparse_pauli({0:'Y',1:'Y'}, nqubits)\n",
    "    for qubit in range(1, nqubits -1):\n",
    "        result += sparse_pauli({qubit:'X',qubit+1:'X'},nqubits) \n",
    "        + sparse_pauli({qubit:'Y',qubit+1:'Y'}, nqubits)\n",
    "    if nqubits > 2:\n",
    "        result += sparse_pauli({nqubits-1:'X',0:'X'},nqubits) + sparse_pauli({nqubits-1:'Y',0:'Y'}, nqubits)\n",
    "    return result\n",
    "\n",
    "def H_pot(nqubits):\n",
    "    paulistring = 'X'*nqubits\n",
    "    return pauli_matrix(paulistring)\n",
    "\n",
    "def H(t, nqubits):\n",
    "    return J0*np.cos(omega1 * t) * H_hop(nqubits) + B0*np.cos(omega2*t) *H_pot(nqubits)"
   ]
  },
  {
   "cell_type": "code",
   "execution_count": 8,
   "id": "011ca193",
   "metadata": {},
   "outputs": [],
   "source": [
    "# Set K_scale to 1 to ensure proper rounding\n",
    "def k(m, K_scale=1):\n",
    "    j = np.arange(1, m+1)\n",
    "    x = np.sin(np.pi*(2*j-1)/(8*m))**2\n",
    "    #x = np.cos(np.pi*(2*j-1)/(8*m))**2\n",
    "    return np.ceil((K_scale*np.sqrt(8) * m) /(np.pi*np.sqrt(x))).astype(int)\n",
    "\n",
    "def a(k):\n",
    "    m = len(k)\n",
    "    result = np.ones(m, dtype = 'float')\n",
    "    for n in range(m):\n",
    "        for q in range(m):\n",
    "            if q != n:\n",
    "                result[n] *= k[n]**2/(k[n]**2-k[q]**2)\n",
    "    return result\n",
    "        \n",
    "def one_norm(vector):\n",
    "    return np.sum(np.abs(vector))"
   ]
  },
  {
   "cell_type": "code",
   "execution_count": 9,
   "id": "ccd79ea7",
   "metadata": {},
   "outputs": [],
   "source": [
    "def U2(dt, t0):\n",
    "    return la.expm(-1.j*H(t0+dt/2, nqubits)*dt)\n",
    "\n",
    "# Defines symmetric sequence of applications of U2 formula, given a number of factors k\n",
    "def U_seq(dt, t0, k):\n",
    "    timestep = dt/k\n",
    "    result = U2(timestep,t0)\n",
    "    for q in range(1, k):\n",
    "        result = U2(timestep, t0 + q*timestep) @ result\n",
    "        \n",
    "    return result\n",
    "\n",
    "def U_k(dt, t0, order):\n",
    "    k_vec = k(order, 1)\n",
    "    a_vec = a(k_vec)\n",
    "    \n",
    "    result = a_vec[0]*U_seq(dt, t0, k_vec[0])\n",
    "    for j in range(1,order):\n",
    "        result += a_vec[j]*U_seq(dt, t0, k_vec[j])  \n",
    "        \n",
    "    return result\n",
    "\n",
    "def U_MP(t, steps, order):\n",
    "    timestep = t/steps\n",
    "    result = U_k(timestep, 0, order)\n",
    "    for step in range(1,steps):\n",
    "        result = U_k(timestep, timestep*step,order) @ result\n",
    "    return result\n",
    "\n",
    "def m_opt():\n",
    "    return np.ceil((-lambertw(-np.sqrt(epsilon/(7.8*np.e*Lambda*T)*np.log(1/gamma)),k=-1)).astype(float)/np.log(1/gamma))\n",
    "\n"
   ]
  },
  {
   "cell_type": "code",
   "execution_count": null,
   "id": "c023999c",
   "metadata": {},
   "outputs": [],
   "source": []
  },
  {
   "cell_type": "code",
   "execution_count": 12,
   "id": "2d340a20",
   "metadata": {},
   "outputs": [
    {
     "name": "stdout",
     "output_type": "stream",
     "text": [
      "[[ 0.35947293-0.60474826j -0.16834968-0.05917127j -0.16834968-0.05917127j\n",
      "  -0.17322698-0.18197823j  0.11008023-0.10478653j -0.0978185 +0.27830588j\n",
      "  -0.0978185 +0.27830588j  0.36581756+0.21744834j]\n",
      " [-0.16834968-0.05917127j -0.46148324-0.06949306j  0.25645518+0.39599009j\n",
      "   0.05181079-0.26874433j -0.44427247-0.08565058j -0.2395379 +0.155132j\n",
      "   0.04203697-0.27915528j -0.0978185 +0.27830588j]\n",
      " [-0.16834968-0.05917127j  0.25645518+0.39599009j -0.46148324-0.06949306j\n",
      "   0.05181079-0.26874433j -0.44427247-0.08565058j  0.04203697-0.27915528j\n",
      "  -0.2395379 +0.155132j   -0.0978185 +0.27830588j]\n",
      " [-0.17322698-0.18197823j  0.05181079-0.26874433j  0.05181079-0.26874433j\n",
      "  -0.03180108+0.50847525j -0.30758117-0.01923675j -0.44427247-0.08565058j\n",
      "  -0.44427247-0.08565058j  0.11008023-0.10478653j]\n",
      " [ 0.11008023-0.10478653j -0.44427247-0.08565058j -0.44427247-0.08565058j\n",
      "  -0.30758117-0.01923675j -0.03180108+0.50847525j  0.05181079-0.26874433j\n",
      "   0.05181079-0.26874433j -0.17322698-0.18197823j]\n",
      " [-0.0978185 +0.27830588j -0.2395379 +0.155132j    0.04203697-0.27915528j\n",
      "  -0.44427247-0.08565058j  0.05181079-0.26874433j -0.46148324-0.06949306j\n",
      "   0.25645518+0.39599009j -0.16834968-0.05917127j]\n",
      " [-0.0978185 +0.27830588j  0.04203697-0.27915528j -0.2395379 +0.155132j\n",
      "  -0.44427247-0.08565058j  0.05181079-0.26874433j  0.25645518+0.39599009j\n",
      "  -0.46148324-0.06949306j -0.16834968-0.05917127j]\n",
      " [ 0.36581756+0.21744834j -0.0978185 +0.27830588j -0.0978185 +0.27830588j\n",
      "   0.11008023-0.10478653j -0.17322698-0.18197823j -0.16834968-0.05917127j\n",
      "  -0.16834968-0.05917127j  0.35947293-0.60474826j]]\n"
     ]
    }
   ],
   "source": [
    "Utrotter = U_seq(T, 0, 1000)\n",
    "Ump = U_MP(T, 10, 3)\n",
    "print(Ump)"
   ]
  },
  {
   "cell_type": "markdown",
   "id": "3894a3b3",
   "metadata": {},
   "source": [
    "# Scaling of MPF with respect to system size on nearest neighbor XX model\n",
    "\n",
    "We are now going to compare our formula for multiproduct formula scaling with what we actually find in a numerical simulation. We will consider the XX Hamiltonian above, fixing the error tolerance $\\epsilon$ at, say $10^{-3}$, as well as the Hamiltonian parameters and $T$. We'll then look at scaling with $N_{spins}$, which is an important figure of merit for quantum many body systems. To facilitate the comparison, we'll perform time dependent Trotter to a guaranteed accuracy of within $10^{-6}$, well smaller than the errors we'll be considering for the multiproducts. \n",
    "\n",
    "First, we'll choose a Hamiltonian such that $\\Lambda = \\left\\|H(t)\\right\\|$. This can be done with the simple choice $J_0 = B_0 = \\omega = 1$, among others. The important thing is that the frequency is not too large compared to the coupling $J_0$. We'll be using the lowest order symmetric Trotter formula in our comparison, and borrowing an expression from Wiebe's 2010 paper that gives us an error bound guarantee using a certain number of steps. I am only trotterizing the time steps for the benchmark Trotter, I don't need to go further because I can numerically exponentiate to machine precision. "
   ]
  },
  {
   "cell_type": "code",
   "execution_count": 68,
   "id": "5493a48f",
   "metadata": {},
   "outputs": [],
   "source": [
    "def trotter_steps_bounds(T, epsilon, nspins, J0, B0):\n",
    "    return np.ceil(25* nspins * (2*J0 + B0)*T*np.sqrt(nspins*(2*j0+B0)*T/epsilon))\n",
    "\n",
    "def m_theory(T, epsilon, nspins, J0,B0, gamma):\n",
    "    return (-lambertw(-np.sqrt(epsilon/(7.8*np.e*nspins*(2*J0+B0)*T)*np.log(1/gamma)),k=-1)).astype(float)/np.log(1/gamma)\n",
    "\n",
    "\n",
    "def mp_steps_bound(T, epsilon, nspins, J0, B0, gamma, kappa):\n",
    "            return 6*kappa*np.e*nspins*(2*J0+B0)*T/gamma * m_theory(T, epsilon, nspins, J0,B0, gamma)**4 * np.log(m_theory(T, epsilon, nspins, J0, B0, gamma))\n",
    "    \n"
   ]
  },
  {
   "cell_type": "code",
   "execution_count": 31,
   "id": "ecb9a9ff",
   "metadata": {},
   "outputs": [
    {
     "name": "stderr",
     "output_type": "stream",
     "text": [
      "/var/folders/3l/pxpt0wt16dg1x_r0_s6zy09r0000gn/T/ipykernel_39838/2440703899.py:5: ComplexWarning: Casting complex values to real discards the imaginary part\n",
      "  return np.ceil((-lambertw(-np.sqrt(epsilon/(7.8*np.e*nspins*(2*J0+B0)*T)*np.log(1/gamma)),k=-1)).astype(float)/np.log(1/gamma))\n"
     ]
    },
    {
     "data": {
      "text/plain": [
       "2683173311.23091"
      ]
     },
     "execution_count": 31,
     "metadata": {},
     "output_type": "execute_result"
    }
   ],
   "source": [
    "mp_steps_bound(10, 10**-3, 10, 1,1, .5, 2) # This is too big"
   ]
  },
  {
   "cell_type": "code",
   "execution_count": 71,
   "id": "e39da3ef",
   "metadata": {},
   "outputs": [
    {
     "name": "stderr",
     "output_type": "stream",
     "text": [
      "/var/folders/3l/pxpt0wt16dg1x_r0_s6zy09r0000gn/T/ipykernel_39838/1428815526.py:5: ComplexWarning: Casting complex values to real discards the imaginary part\n",
      "  return (-lambertw(-np.sqrt(epsilon/(7.8*np.e*nspins*(2*J0+B0)*T)*np.log(1/gamma)),k=-1)).astype(float)/np.log(1/gamma)\n"
     ]
    },
    {
     "data": {
      "text/plain": [
       "0.7373553071622415"
      ]
     },
     "execution_count": 71,
     "metadata": {},
     "output_type": "execute_result"
    }
   ],
   "source": [
    "m_theory(0.0001, 10**-3, 1, 1,1, .3)"
   ]
  },
  {
   "cell_type": "code",
   "execution_count": 69,
   "id": "215951fe",
   "metadata": {},
   "outputs": [
    {
     "name": "stderr",
     "output_type": "stream",
     "text": [
      "/var/folders/3l/pxpt0wt16dg1x_r0_s6zy09r0000gn/T/ipykernel_39838/1428815526.py:5: RuntimeWarning: divide by zero encountered in true_divide\n",
      "  return (-lambertw(-np.sqrt(epsilon/(7.8*np.e*nspins*(2*J0+B0)*T)*np.log(1/gamma)),k=-1)).astype(float)/np.log(1/gamma)\n",
      "/var/folders/3l/pxpt0wt16dg1x_r0_s6zy09r0000gn/T/ipykernel_39838/1428815526.py:5: ComplexWarning: Casting complex values to real discards the imaginary part\n",
      "  return (-lambertw(-np.sqrt(epsilon/(7.8*np.e*nspins*(2*J0+B0)*T)*np.log(1/gamma)),k=-1)).astype(float)/np.log(1/gamma)\n"
     ]
    },
    {
     "data": {
      "text/plain": [
       "Text(0, 0.5, 'order')"
      ]
     },
     "execution_count": 69,
     "metadata": {},
     "output_type": "execute_result"
    },
    {
     "data": {
      "image/png": "[encoded data removed]",
      "text/plain": [
       "<Figure size 432x288 with 1 Axes>"
      ]
     },
     "metadata": {
      "needs_background": "light"
     },
     "output_type": "display_data"
    }
   ],
   "source": [
    "t = np.linspace(0,10,1000)\n",
    "m_value = m_theory(t,10**-3,10,1,1,.5)\n",
    "\n",
    "plt.plot(t, m_value)\n",
    "plt.title('Calculated MP order as function of simulation time')\n",
    "plt.xlabel('time')\n",
    "plt.ylabel('order')"
   ]
  },
  {
   "cell_type": "markdown",
   "id": "fbf0a5de",
   "metadata": {},
   "source": [
    "We see the correct logarithmic dependence of the MP order $m$ on the simulation time. However, it seems there's a high constant shift, since even short times yield a relatively high $m$. We see similar behavior in the number of MP steps, where the scaling is good as theoretically calculated, but the bound is extremely high! I'm sure the actual values we'll see will be much lower."
   ]
  },
  {
   "cell_type": "code",
   "execution_count": null,
   "id": "c1feef1e",
   "metadata": {},
   "outputs": [],
   "source": []
  }
 ],
 "metadata": {
  "kernelspec": {
   "display_name": "Python 3 (ipykernel)",
   "language": "python",
   "name": "python3"
  },
  "language_info": {
   "codemirror_mode": {
    "name": "ipython",
    "version": 3
   },
   "file_extension": ".py",
   "mimetype": "text/x-python",
   "name": "python",
   "nbconvert_exporter": "python",
   "pygments_lexer": "ipython3",
   "version": "3.9.1"
  }
 },
 "nbformat": 4,
 "nbformat_minor": 5
}
