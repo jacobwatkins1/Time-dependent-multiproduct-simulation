{
 "cells": [
  {
   "cell_type": "code",
   "execution_count": 2,
   "metadata": {},
   "outputs": [],
   "source": [
    "import numpy as np\n",
    "import scipy.linalg as la\n",
    "import matplotlib.pyplot as plt\n",
    "from qiskit import QuantumCircuit, QuantumRegister, ClassicalRegister\n",
    "from scipy.special import lambertw\n",
    "import qutip as qt"
   ]
  },
  {
   "cell_type": "markdown",
   "metadata": {},
   "source": [
    "## Exact solution for spin-1/2\n",
    "\n",
    "We're going to use some analytic results for time dependent simulations given by M A Lohe 2008 J. Phys. A: Math. Theor. 42 035307. Let $T$ be some time-dependent unitary and let $I = T H_0 T^\\dagger$, where $H_0$ is time independent. Then, if we define \n",
    "\n",
    "$$H(t) = i\\frac{\\partial T}{\\partial t} T^\\dagger + F(I, t)$$\n",
    "\n",
    "for some $F$, then $I$ is a dynamical invariant for $H(t)$. This implies that the eigenvectors $\\left|\\phi_\\lambda\\right>$ of $I$ are the solutions $\\left|\\psi_\\lambda\\right>$ for the time-dependent Schrodinger equation, up to a time dependent phase $\\alpha$.\n",
    "\n",
    "$$\\left|\\psi_\\lambda\\right> = e^{i\\alpha_\\lambda (t)}\\left|\\phi_\\lambda\\right>$$\n",
    "\n",
    "Where $\\alpha_\\lambda$ is given by\n",
    "$$\\alpha_\\lambda (t) = -\\int_0^t \\left<\\phi_\\lambda\\right|H\\left|\\phi_\\lambda\\right> + i \\left<\\dot{\\phi}_\\lambda|\\phi_\\lambda\\right> d\\tau$$ \n",
    "\n",
    "To get a toy problem to test our method, let's concern ourselves with a single qubit Hamiltonian akin to a rotating magnetic field. Specifically, let's define $T(t) = R_z (\\omega t)$ and $H_0 = \\frac{B}{2}\\hat{r}_0 \\cdot \\vec{\\sigma}$, where $\\hat{r}_0 = (\\cos\\theta, 0, \\sin\\theta)$ for $\\theta \\in [0,\\pi/2]$. We can calculate that\n",
    "\n",
    "$$i \\frac{\\partial T}{\\partial t} T^\\dagger = \\frac{\\omega}{2} Z$$\n",
    "\n",
    "so that\n",
    "\n",
    "$$H(t) = \\omega Z/2 + B\\cos\\theta Z/2 + B\\sin\\theta(\\cos\\omega t X/2 + \\sin\\omega t Y/2)$$\n",
    "\n",
    "The solutions $\\left|\\psi_\\pm \\right>$ to the time dependent Schrodinger equation are given by \n",
    "\n",
    "$$\\left|\\psi_\\pm (t)\\right> = e^{\\mp iBt/2}T(t) \\left|\\phi_0^\\pm\\right>$$\n",
    "\n",
    "where $\\left|\\phi_0^\\pm\\right>$ are the eigenstates of $H_0$.\n",
    "\n",
    "$$\\left|\\phi_0^+\\right> = \\cos\\theta/2 \\left|0\\right> + \\sin\\theta/2 \\left|1\\right>, \\quad \\left|\\phi_0^-\\right> = \\sin\\theta/2 \\left|0\\right> - \\cos\\theta/2 \\left|1\\right>$$\n",
    "\n",
    "Now for the full solution. Suppose we are given an initial state $\\left|\\psi_0\\right>$, which we can express in the basis $\\left|\\phi_0^\\pm\\right>$ as \n",
    "$$\\left|\\psi_0\\right> = a \\left|\\phi_0^+\\right> + b \\left|\\phi_0^-\\right>$$. \n",
    "\n",
    "Then the full solution $\\left|\\psi(t)\\right>$ to the TDSE is given by\n",
    "$$\\left|\\psi(t)\\right> = a \\left|\\psi_+(t)\\right> + b \\left|\\psi_-(t)\\right>$$\n",
    "\n",
    "We'd like to compare the exact time evolution operator $U$ to that obtained by the multiproduct formula, $U_{\\vec{k}}$. To obtain $U$, we can express in braket notation how each initial basis state evolves, and simplify.\n",
    "$$U(t) = \\left|\\psi^+(t)\\right>\\left<\\phi_0^+\\right| + \\left|\\psi^-(t)\\right>\\left<\\phi_0^-\\right|\\\\ \n",
    "       = e^{-iBt/2} T(t)\\left|\\phi_0^+\\right>\\left<\\phi_0^+\\right| + e^{+iBt/2} T(t)\\left|\\phi_0^-\\right>\\left<\\phi_0^-\\right|\\\\\n",
    "       = T(t)R_y(\\theta)(e^{-iBt/2}\\left|0\\right>\\left<0\\right| + e^{iBt/2}\\left|1\\right>\\left<1\\right|)R_y(-\\theta)\\\\\n",
    "       = R_z(\\omega t)R_y(\\theta)R_z(Bt)R_y(-\\theta)$$\n",
    "       \n",
    "## Quasi energies\n",
    "\n",
    "Let's compute the quasi energies of this periodic Hamiltonian with period $T = 2\\pi/\\omega$. The quasi energy states are those that follow the axis of the rotating magnetic field. They precess with frequency $\\omega$ about the z-axis, making angle $\\theta$ with respect to it and starting in the $xz$ plane at t = 0. To calculate them, we can look at the propagator applied to this initial state.\n",
    "\n",
    "When we calculate the quasienergies, we find, unsurprisingly in hindsight, that they are given by the magnetic field strength. The gap is $B$ and each of the values is \n",
    "\n",
    "$$ \\epsilon_\\pm = \\pm B/2 \\pmod \\omega$$\n",
    "\n",
    "with modulo since the quasienergies only exist in the finite range $[0, \\omega]$. As a consequence, suppose we consider an arbitrary state evolving under the Hamiltonian, which will be expressible in terms of the quasi energy states. \n",
    "\n",
    "$$\\left|\\psi(t)\\right> = c_1 \\left|\\psi_+(t)\\right>+c_2 \\left|\\psi_-(t)\\right>$$\n",
    "\n",
    "The period is $T = 2\\pi/\\omega$. Evolving for $n$ periods yields\n",
    "$$\\left|\\psi(t+nT)\\right> = c_1 e^{i\\pi B n/ (2 \\omega)}\\left|\\psi_+(t)\\right>+c_2 e^{-i\\pi B n/(2\\omega)}\\left|\\psi_-(t)\\right> \\\\\n",
    "=c_1 \\left|\\psi_+(t)\\right> + c_2 e^{i\\pi n(B/\\omega)}\\left|\\psi_-\\right>$$\n",
    "\n",
    "From this, we see there can be periodic behavior in a general state if the frequencies $B$ and $\\omega$ are commiserate, meaning their ratio is rational (with hopefully small denominator). This is indeed what simulation shows, for values of $B = 1$ and $\\omega = 3$, you see periodic behavior at 3x the Hamiltonian period, regardless of the initial state. "
   ]
  },
  {
   "cell_type": "code",
   "execution_count": 3,
   "metadata": {},
   "outputs": [],
   "source": [
    "#Parameters\n",
    "theta = np.pi/6 # Angle of rotating B field from z axis\n",
    "omega = 4       # Frequency of rotation\n",
    "B = 1           # Magnetic field strength\n",
    "cycles = 16\n",
    "tsteps = 200   # Number of time mesh points (not for Trotter)\n",
    "\n",
    "tmax = 2*np.pi/omega * cycles       # Length of time simulation\n",
    "\n",
    "# Pauli matrices and rotations\n",
    "\n",
    "I = np.array([[1,0],[0,1]], dtype='complex')\n",
    "X = np.array([[0,1],[1,0]],dtype='complex')\n",
    "Y = np.array([[0,-1j],[1j,0]],dtype='complex')\n",
    "Z = np.array([[1,0],[0,-1]],dtype='complex')\n",
    "\n",
    "Rx = lambda theta: la.expm(-1j*theta*X/2)\n",
    "Ry = lambda theta: la.expm(-1j*theta*Y/2)\n",
    "Rz = lambda theta: la.expm(-1j*theta*Z/2)\n",
    "\n",
    "phi0_plus = np.array([np.cos(theta/2),np.sin(theta/2)])\n",
    "phi0_minus = np.array([np.sin(theta/2),-np.cos(theta/2)])\n",
    "\n",
    "def T(t):\n",
    "    return Rz(omega*t)\n",
    "\n",
    "def h0():\n",
    "    return B/2 * (np.sin(theta)*X + np.cos(theta)*Z)\n",
    "\n",
    "def h(t):\n",
    "    return T(t)@h0()@T(-t)+omega*Z/2\n",
    "\n",
    "def plus_solution(t):\n",
    "    return np.exp(-1j*B*t/2)*T(t)@phi0_plus\n",
    "\n",
    "def minus_solution(t):\n",
    "    return np.exp(1j*B*t/2)*T(t)@phi0_minus\n",
    "\n",
    "def U_exact(t):\n",
    "    return Rz(omega*t) @ Ry(theta) @ Rz(B*t) @ Ry(-theta)"
   ]
  },
  {
   "cell_type": "code",
   "execution_count": 4,
   "metadata": {},
   "outputs": [
    {
     "name": "stdout",
     "output_type": "stream",
     "text": [
      "0.0012022403635891681\n"
     ]
    }
   ],
   "source": [
    "trotsteps = 100\n",
    "\n",
    "def U_trott(t,trotsteps):\n",
    "    stepsize = t/trotsteps\n",
    "    result = np.identity(2,dtype='complex')\n",
    "    for trotstep in range(trotsteps):\n",
    "        result = la.expm(-1j*h((trotstep+.5)*stepsize)*stepsize) @ result\n",
    "    return result\n",
    "    \n",
    "print(la.norm(U_exact(4)-U_trott(4,trotsteps)))"
   ]
  },
  {
   "cell_type": "code",
   "execution_count": 5,
   "metadata": {},
   "outputs": [],
   "source": [
    "t = np.linspace(.001,tmax,tsteps)\n",
    "logt = np.log10(t)\n",
    "log_trotter_error = np.zeros(tsteps)\n",
    "for step, time in enumerate(t):\n",
    "    log_trotter_error[step] = np.log10(la.norm(U_exact(time)-U_trott(time,trotsteps)))"
   ]
  },
  {
   "cell_type": "code",
   "execution_count": 6,
   "metadata": {},
   "outputs": [
    {
     "data": {
      "text/plain": [
       "[<matplotlib.lines.Line2D at 0x7fb3cb952580>]"
      ]
     },
     "execution_count": 6,
     "metadata": {},
     "output_type": "execute_result"
    },
    {
     "data": {
      "image/png": "[encoded data removed]",
      "text/plain": [
       "<Figure size 432x288 with 1 Axes>"
      ]
     },
     "metadata": {
      "needs_background": "light"
     },
     "output_type": "display_data"
    }
   ],
   "source": [
    "plt.plot(logt,log_trotter_error)\n",
    "plt.plot(logt, 3*logt -4.76)"
   ]
  },
  {
   "cell_type": "markdown",
   "metadata": {},
   "source": [
    "## Benchmarking Multiproduct formula\n",
    "\n",
    "### Essential functions"
   ]
  },
  {
   "cell_type": "code",
   "execution_count": 7,
   "metadata": {},
   "outputs": [],
   "source": [
    "# Set K_scale to 1 to ensure proper rounding\n",
    "def k(m, K_scale=1):\n",
    "    j = np.arange(1, m+1)\n",
    "    x = np.sin(np.pi*(2*j-1)/(8*m))**2\n",
    "    #x = np.cos(np.pi*(2*j-1)/(8*m))**2\n",
    "    return np.ceil((K_scale*np.sqrt(8) * m) /(np.pi*np.sqrt(x))).astype(int)\n",
    "\n",
    "def a(k):\n",
    "    m = len(k)\n",
    "    result = np.ones(m, dtype = 'float')\n",
    "    for n in range(m):\n",
    "        for q in range(m):\n",
    "            if q != n:\n",
    "                result[n] *= k[n]**2/(k[n]**2-k[q]**2)\n",
    "    return result\n",
    "        \n",
    "def one_norm(vector):\n",
    "    return np.sum(np.abs(vector))"
   ]
  },
  {
   "cell_type": "code",
   "execution_count": 8,
   "metadata": {},
   "outputs": [],
   "source": [
    "def U2(dt, t0):\n",
    "    return la.expm(-1.j*h(t0+dt/2)*dt)\n",
    "\n",
    "# Defines symmetric sequence of applications of U2 formula, given a number of factors k\n",
    "def U_seq(dt, t0, k):\n",
    "    timestep = dt/k\n",
    "    result = U2(timestep,t0)\n",
    "    for q in range(1, k):\n",
    "        result = U2(timestep, t0 + q*timestep) @ result\n",
    "        \n",
    "    return result\n",
    "\n",
    "def U_k(dt, t0, order):\n",
    "    k_vec = k(order, 1)\n",
    "    a_vec = a(k_vec)\n",
    "    \n",
    "    result = a_vec[0]*U_seq(dt, t0, k_vec[0])\n",
    "    for j in range(1,order):\n",
    "        result += a_vec[j]*U_seq(dt, t0, k_vec[j])  \n",
    "        \n",
    "    return result\n",
    "\n",
    "def U_MP(t, steps, order):\n",
    "    timestep = t/steps\n",
    "    result = U_k(timestep, 0, order)\n",
    "    for step in range(1,steps):\n",
    "        result = U_k(timestep, timestep*step,order) @ result\n",
    "    return result\n",
    "\n",
    "def m_opt():\n",
    "    return np.ceil((-lambertw(-np.sqrt(epsilon/(7.8*omega*T)*np.log(1/gamma)),k=-1)).astype(float)/np.log(1/gamma))"
   ]
  },
  {
   "cell_type": "markdown",
   "metadata": {},
   "source": [
    "# Bloch Sphere Visualization\n",
    "Let's make a movie of the time propagation using qutip. We'll make a movie of the exact and MP propagation, and hopefully they are very similar. "
   ]
  },
  {
   "cell_type": "code",
   "execution_count": 34,
   "metadata": {},
   "outputs": [],
   "source": [
    "#Parameters\n",
    "theta = np.pi/6 # Angle of rotating B field from z axis\n",
    "omega = 4       # Frequency of rotation\n",
    "B = 1           # Magnetic field strength\n",
    "cycles = 20\n",
    "tsteps = 200   # Number of time mesh points (not for Trotter)\n",
    "\n",
    "# MPF parameters\n",
    "mpsteps = 5\n",
    "order = 2\n",
    "\n",
    "period = 2*np.pi/omega\n",
    "tmax = period * cycles       # Length of time simulation\n",
    "\n",
    "def state2vector(statevector):\n",
    "    densitymatrix = np.outer(np.conjugate(statevector),statevector)\n",
    "    result = [0,0,0]\n",
    "    result[0] = np.real(np.trace(X @ densitymatrix))\n",
    "    result[1] = np.real(np.trace(Y @ densitymatrix))\n",
    "    result[2] = np.real(np.trace(Z @ densitymatrix))\n",
    "    return result\n",
    "\n",
    "t = np.linspace(0, tmax,tsteps)\n",
    "init_state = Ry(0) @ np.array([1,0])"
   ]
  },
  {
   "cell_type": "code",
   "execution_count": 43,
   "metadata": {},
   "outputs": [],
   "source": [
    "# Create combined exact and MPF simulation graphic\n",
    "b = qt.Bloch()\n",
    "b.vector_color = ['g','r']\n",
    "for index, time in enumerate(t):\n",
    "    b.clear()\n",
    "    b.add_vectors(state2vector(U_exact(time) @ init_state))\n",
    "    b.add_vectors(state2vector(U_MP(time,mpsteps,order) @ init_state))\n",
    "    b.save(dirc='Exact_and_MPFTimeEvolution')  # saving images to temp directory in current working directory"
   ]
  },
  {
   "cell_type": "code",
   "execution_count": 44,
   "metadata": {},
   "outputs": [],
   "source": [
    "b = qt.Bloch()\n",
    "b.vector_color = ['g']\n",
    "for index, time in enumerate(t):\n",
    "    b.clear()\n",
    "    b.add_vectors(state2vector(U_exact(time) @ init_state))\n",
    "    b.save(dirc='ExactTimeEvolution')  # saving images to temp directory in current working directory\n",
    "    \n",
    "\n",
    "b = qt.Bloch()\n",
    "b.vector_color = ['r']\n",
    "for index, time in enumerate(t):\n",
    "    b.clear()\n",
    "    b.add_vectors(state2vector(U_MP(time,mpsteps,order) @ init_state))\n",
    "    b.save(dirc='MPTimeEvolution')  # saving images to temp directory in current working directory"
   ]
  },
  {
   "cell_type": "code",
   "execution_count": 50,
   "metadata": {},
   "outputs": [],
   "source": [
    "fidelities = np.zeros(tsteps)\n",
    "for index, time in enumerate(t):\n",
    "    exact_evolve = U_exact(time) @ init_state\n",
    "    MP_evolve = U_MP(time,mpsteps,order) @ init_state\n",
    "    inner_product = np.conjugate(MP_evolve) @ (exact_evolve)\n",
    "    \n",
    "    fidelities[index] = np.abs(inner_product)**2/(la.norm(MP_evolve)**2*la.norm(exact_evolve)**2)\n",
    "    "
   ]
  },
  {
   "cell_type": "code",
   "execution_count": 53,
   "metadata": {},
   "outputs": [
    {
     "data": {
      "image/png": "[encoded data removed]",
      "text/plain": [
       "<Figure size 432x288 with 1 Axes>"
      ]
     },
     "metadata": {
      "needs_background": "light"
     },
     "output_type": "display_data"
    }
   ],
   "source": [
    "cycle_time = t/ period\n",
    "plt.plot(cycle_time, fidelities)\n",
    "plt.title(\"Accuracy of MPF simulation\")\n",
    "plt.xlabel(\"Simulation time (periods)\")\n",
    "plt.ylabel(\"Fidelity\")\n",
    "plt.savefig(\"MPF_Fidelity.png\")"
   ]
  },
  {
   "cell_type": "code",
   "execution_count": 10,
   "metadata": {},
   "outputs": [
    {
     "data": {
      "text/plain": [
       "[<matplotlib.lines.Line2D at 0x7fb3cc29cfa0>]"
      ]
     },
     "execution_count": 10,
     "metadata": {},
     "output_type": "execute_result"
    },
    {
     "data": {
      "image/png": "[encoded data removed]",
      "text/plain": [
       "<Figure size 432x288 with 1 Axes>"
      ]
     },
     "metadata": {
      "needs_background": "light"
     },
     "output_type": "display_data"
    }
   ],
   "source": [
    "#Check error scaling of U_MP\n",
    "tmax = 10\n",
    "tmin = 1\n",
    "mpsteps = 4\n",
    "order = 3\n",
    "\n",
    "t = np.linspace(tmin,tmax,tsteps)\n",
    "logt = np.log10(t)\n",
    "log_U_MP_error = np.zeros(tsteps)\n",
    "for step, time in enumerate(t):\n",
    "    log_U_MP_error[step] = np.log10(la.norm(U_exact(time)-U_MP(time,mpsteps,order)))\n",
    "    \n",
    "plt.plot(logt,log_U_MP_error)\n",
    "plt.plot(logt, (2*order + 1)*logt-4)"
   ]
  },
  {
   "cell_type": "code",
   "execution_count": 11,
   "metadata": {},
   "outputs": [
    {
     "data": {
      "image/png": "[encoded data removed]",
      "text/plain": [
       "<Figure size 432x288 with 1 Axes>"
      ]
     },
     "metadata": {
      "needs_background": "light"
     },
     "output_type": "display_data"
    }
   ],
   "source": [
    "#Check error scaling of U_k\n",
    "orders = np.arange(1,5)\n",
    "tmax = 10\n",
    "tmin = .1\n",
    "tsteps = 50\n",
    "\n",
    "t = np.linspace(tmin,tmax,tsteps)\n",
    "\n",
    "logt = np.log10(t)\n",
    "powers = np.zeros((orders.size, tsteps))\n",
    "\n",
    "for index, order in enumerate(orders):\n",
    "    U_k_error = np.zeros(tsteps)\n",
    "    for step, time in enumerate(t):\n",
    "        U_k_error[step] = la.norm(U_exact(time)-U_k(time,0,order))\n",
    "\n",
    "    U_k_ref = la.norm(U_exact(1) - U_k(1,0,order))\n",
    "\n",
    "    powers[index,:] = np.log10(U_k_error/U_k_ref)/logt\n",
    "    \n",
    "for n in range(orders.size-1,-1,-1):\n",
    "    plt.plot(logt,powers[n])\n",
    "plt.title(\"Power scaling for different MP orders\")\n",
    "plt.xlabel(\"Log simulation time (base 10)\")\n",
    "plt.ylabel(r'$\\log(\\epsilon(t)/\\epsilon(1))/\\log(t) $')\n",
    "plt.legend(['m=4','m=3','m=2','m=1'])\n",
    "plt.yticks([1,3,5,7,9,11,13])\n",
    "plt.savefig('PowerScalingSingleQubit.png')"
   ]
  },
  {
   "cell_type": "code",
   "execution_count": 12,
   "metadata": {},
   "outputs": [
    {
     "data": {
      "text/plain": [
       "[<matplotlib.lines.Line2D at 0x7f940b72ce80>]"
      ]
     },
     "execution_count": 12,
     "metadata": {},
     "output_type": "execute_result"
    },
    {
     "data": {
      "image/png": "[encoded data removed]",
      "text/plain": [
       "<Figure size 432x288 with 1 Axes>"
      ]
     },
     "metadata": {
      "needs_background": "light"
     },
     "output_type": "display_data"
    }
   ],
   "source": [
    "#Check error scaling of U_seq\n",
    "k = 10\n",
    "tmax = 10\n",
    "\n",
    "t = np.linspace(.001,tmax,tsteps)\n",
    "logt = np.log10(t)\n",
    "log_U_seq_error = np.zeros(tsteps)\n",
    "for step, time in enumerate(t):\n",
    "    log_U_seq_error[step] = np.log10(la.norm(U_exact(time)-U_seq(time,0,1)))\n",
    "    \n",
    "plt.plot(logt,log_U_seq_error)\n",
    "plt.plot(logt, 3*logt-1.49)"
   ]
  },
  {
   "cell_type": "code",
   "execution_count": 13,
   "metadata": {},
   "outputs": [
    {
     "data": {
      "text/plain": [
       "[<matplotlib.lines.Line2D at 0x7f940169c070>]"
      ]
     },
     "execution_count": 13,
     "metadata": {},
     "output_type": "execute_result"
    },
    {
     "data": {
      "image/png": "[encoded data removed]",
      "text/plain": [
       "<Figure size 432x288 with 1 Axes>"
      ]
     },
     "metadata": {
      "needs_background": "light"
     },
     "output_type": "display_data"
    }
   ],
   "source": [
    "# Check error scaling of U2 gate\n",
    "\n",
    "t = np.linspace(.001,tmax,tsteps)\n",
    "logt = np.log10(t)\n",
    "log_U2_error = np.zeros(tsteps)\n",
    "for step, time in enumerate(t):\n",
    "    log_U2_error[step] = np.log10(la.norm(U_exact(time)-U2(time/2,time/2)@U2(time/2,0)))\n",
    "    \n",
    "plt.plot(logt,log_U2_error)\n",
    "plt.plot(logt, 3*logt-1)"
   ]
  },
  {
   "cell_type": "code",
   "execution_count": 14,
   "metadata": {},
   "outputs": [],
   "source": [
    "def vandermonde(x):\n",
    "    result = np.zeros((x.size, x.size))\n",
    "    for n in range(x.size):\n",
    "        for m in range(x.size):\n",
    "            result[n,m] = x[m]**(n)\n",
    "    return result"
   ]
  },
  {
   "cell_type": "code",
   "execution_count": 15,
   "metadata": {},
   "outputs": [
    {
     "ename": "TypeError",
     "evalue": "'int' object is not callable",
     "output_type": "error",
     "traceback": [
      "\u001b[0;31m---------------------------------------------------------------------------\u001b[0m",
      "\u001b[0;31mTypeError\u001b[0m                                 Traceback (most recent call last)",
      "\u001b[0;32m/var/folders/3l/pxpt0wt16dg1x_r0_s6zy09r0000gn/T/ipykernel_65650/849339606.py\u001b[0m in \u001b[0;36m<module>\u001b[0;34m\u001b[0m\n\u001b[0;32m----> 1\u001b[0;31m \u001b[0mk\u001b[0m\u001b[0;34m(\u001b[0m\u001b[0;36m4\u001b[0m\u001b[0;34m,\u001b[0m\u001b[0;36m.3\u001b[0m\u001b[0;34m)\u001b[0m\u001b[0;34m\u001b[0m\u001b[0;34m\u001b[0m\u001b[0m\n\u001b[0m",
      "\u001b[0;31mTypeError\u001b[0m: 'int' object is not callable"
     ]
    }
   ],
   "source": [
    "k(4,.3)"
   ]
  },
  {
   "cell_type": "code",
   "execution_count": 321,
   "metadata": {},
   "outputs": [
    {
     "data": {
      "text/plain": [
       "3"
      ]
     },
     "execution_count": 321,
     "metadata": {},
     "output_type": "execute_result"
    }
   ],
   "source": [
    "a(np.array([1,2,4])).size"
   ]
  },
  {
   "cell_type": "code",
   "execution_count": 322,
   "metadata": {},
   "outputs": [
    {
     "data": {
      "text/plain": [
       "array([[ 1.,  1.,  1.],\n",
       "       [ 2.,  3.,  4.],\n",
       "       [ 4.,  9., 16.]])"
      ]
     },
     "execution_count": 322,
     "metadata": {},
     "output_type": "execute_result"
    }
   ],
   "source": [
    "vandermonde(np.array([2,3,4]))"
   ]
  },
  {
   "cell_type": "code",
   "execution_count": 327,
   "metadata": {},
   "outputs": [
    {
     "data": {
      "text/plain": [
       "array([1., 0., 0., 0.])"
      ]
     },
     "execution_count": 327,
     "metadata": {},
     "output_type": "execute_result"
    }
   ],
   "source": [
    "vandermonde(1/k(4,.3)**2) @ a(k(4,.3))"
   ]
  },
  {
   "cell_type": "code",
   "execution_count": null,
   "metadata": {},
   "outputs": [],
   "source": [
    "def h(t):\n",
    "    return Z/2\n",
    "\n",
    "def U_TI(t):\n",
    "    return la.expm(-1j*h(t)*t)"
   ]
  },
  {
   "cell_type": "markdown",
   "metadata": {},
   "source": [
    "## Make sure you're doing multiproduct right with simple example\n",
    "\n",
    "Let's take the Hamiltonian\n",
    "    $$H = (X + Z)/2$$\n",
    "and do a split between the terms to make sure the formula is working. We'll just do order $m=2$. "
   ]
  },
  {
   "cell_type": "code",
   "execution_count": 374,
   "metadata": {},
   "outputs": [],
   "source": [
    "def u2(t):\n",
    "    return Rx(t/2) @ Rz(t) @ Rx(t/2)\n",
    "\n",
    "def u(t):\n",
    "    return la.expm(-1j * (X+Z)/2 * t)\n",
    "\n",
    "def utrott(t, steps):\n",
    "    result = np.identity(2)\n",
    "    for step in range(steps):\n",
    "        result = u2(t/steps) @ result\n",
    "    return result\n",
    "\n",
    "def u_mp_step(t,order):\n",
    "    klist = k(order, 1)\n",
    "    alist = a(klist)\n",
    "    result = np.zeros((2,2),dtype='complex')\n",
    "    for j in range(order):\n",
    "        result += alist[j]*np.linalg.matrix_power(u2(t/klist[j]),klist[j])\n",
    "    return result\n",
    "\n",
    "def u_mp(t, steps, order):\n",
    "    result = np.identity(2,dtype='complex')\n",
    "    for step in range(steps):\n",
    "        result = u_mp_step(t/steps, order) @ result\n",
    "    return result"
   ]
  },
  {
   "cell_type": "code",
   "execution_count": 354,
   "metadata": {},
   "outputs": [
    {
     "data": {
      "text/plain": [
       "array([[0.9605305-0.19866933j, 0.       -0.19470917j],\n",
       "       [0.       -0.19470917j, 0.9605305+0.19866933j]])"
      ]
     },
     "execution_count": 354,
     "metadata": {},
     "output_type": "execute_result"
    }
   ],
   "source": [
    "u_mp_step(.4, 1)"
   ]
  },
  {
   "cell_type": "code",
   "execution_count": 107,
   "metadata": {},
   "outputs": [],
   "source": [
    "def U_simpseq(t,k):\n",
    "    timestep = t/k\n",
    "    result = U2(timestep, 0)\n",
    "    for step in range(1,k):\n",
    "        result = U2(timestep, step*timestep)@ result\n",
    "    return result"
   ]
  },
  {
   "cell_type": "code",
   "execution_count": 109,
   "metadata": {},
   "outputs": [
    {
     "data": {
      "text/plain": [
       "[<matplotlib.lines.Line2D at 0x7fc63c18a070>]"
      ]
     },
     "execution_count": 109,
     "metadata": {},
     "output_type": "execute_result"
    },
    {
     "data": {
      "image/png": "[encoded data removed]",
      "text/plain": [
       "<Figure size 432x288 with 1 Axes>"
      ]
     },
     "metadata": {
      "needs_background": "light"
     },
     "output_type": "display_data"
    }
   ],
   "source": [
    "# Check error scaling of U_simpseq \n",
    "\n",
    "k =10\n",
    "\n",
    "t = np.linspace(.001,tmax,tsteps)\n",
    "logt = np.log10(t)\n",
    "log_U2_error = np.zeros(tsteps)\n",
    "for step, time in enumerate(t):\n",
    "    log_U2_error[step] = np.log10(la.norm(U_exact(time)-U_simpseq(time,k)))\n",
    "    \n",
    "plt.plot(logt,log_U2_error)\n",
    "plt.plot(logt, 3*logt-1)"
   ]
  },
  {
   "cell_type": "code",
   "execution_count": null,
   "metadata": {},
   "outputs": [],
   "source": []
  }
 ],
 "metadata": {
  "kernelspec": {
   "display_name": "Python 3 (ipykernel)",
   "language": "python",
   "name": "python3"
  },
  "language_info": {
   "codemirror_mode": {
    "name": "ipython",
    "version": 3
   },
   "file_extension": ".py",
   "mimetype": "text/x-python",
   "name": "python",
   "nbconvert_exporter": "python",
   "pygments_lexer": "ipython3",
   "version": "3.9.1"
  }
 },
 "nbformat": 4,
 "nbformat_minor": 4
}
